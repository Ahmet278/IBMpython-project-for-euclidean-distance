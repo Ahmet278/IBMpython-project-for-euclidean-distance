{
  "nbformat": 4,
  "nbformat_minor": 0,
  "metadata": {
    "colab": {
      "provenance": [],
      "toc_visible": true,
      "authorship_tag": "ABX9TyOhoZMiXLEzhRuUr5jGkNNq",
      "include_colab_link": true
    },
    "kernelspec": {
      "name": "python3",
      "display_name": "Python 3"
    },
    "language_info": {
      "name": "python"
    }
  },
  "cells": [
    {
      "cell_type": "markdown",
      "metadata": {
        "id": "view-in-github",
        "colab_type": "text"
      },
      "source": [
        "<a href=\"https://colab.research.google.com/github/Ahmet278/IBMpython-project-for-euclidean-distance/blob/main/Euclideandistance.ipynb\" target=\"_parent\"><img src=\"https://colab.research.google.com/assets/colab-badge.svg\" alt=\"Open In Colab\"/></a>"
      ]
    },
    {
      "cell_type": "markdown",
      "source": [
        "# Kütüphane Ekleme\n",
        "\n",
        "Matematik kütüphanemizi ekliyoruz ve artık matematiksel işlemleri yaptırabiliriz.\n",
        "\n"
      ],
      "metadata": {
        "id": "i6DAokjv9Iku"
      }
    },
    {
      "cell_type": "code",
      "execution_count": 1,
      "metadata": {
        "id": "WzkaDO6E9HHY"
      },
      "outputs": [],
      "source": [
        "import math"
      ]
    },
    {
      "cell_type": "markdown",
      "source": [
        "# Euclidean distance\n",
        "\n",
        "Euclidean distance, yani öklid uzayındaki mesafeleri hesaplamamıza yarayan formülü kodluyoruz.\n",
        "Ayrıca bu uzayda hesaplamak istediğimiz noktaları kullanıcı tarafından girilebilir yapıyoruz.\n",
        "\n"
      ],
      "metadata": {
        "id": "Jkzuro1S91Yf"
      }
    },
    {
      "cell_type": "code",
      "source": [
        "def euclideanDistance(nokta1, nokta2):\n",
        "    x1, y1 = nokta1\n",
        "    x2, y2 = nokta2\n",
        "    mesafe = math.sqrt((x2 - x1)**2 + (y2 - y1)**2)\n",
        "    return mesafe\n"
      ],
      "metadata": {
        "id": "z8SOLEpb9zsN"
      },
      "execution_count": 2,
      "outputs": []
    },
    {
      "cell_type": "markdown",
      "source": [
        "# Kullanıcıdan Noktaları Alma\n",
        "Bu kısımda kullanıcının öklid uzayından nokta seçip girebilmesi için gerekli kısmı yazıyoruz. Burada dikkat etmemiz gereken; minimum mesafe hesaplanacağından kullanıcının kaç nokta gireceğini de almamız gerekiyor. Yani kullanıcı n tane nokta girecekse n tane nokta için ayrı bir (x,y) çifti açmamız gerekiyor. Burada noktaları girerken boşlukla ayırarak girilmesini sağlamak için split kodunu kullanıyoruz. Split bu boşluklu sayıların nokta (x,y) formatına dönüşmesinde yardımcı oluyor."
      ],
      "metadata": {
        "id": "WKL1iBAL_mIf"
      }
    },
    {
      "cell_type": "code",
      "source": [
        "points = []\n",
        "n = int(input(\"Kaç tane nokta girmek istiyorsunuz? \"))\n",
        "\n",
        "for i in range(n):\n",
        "    x, y = map(float, input(f\"{i + 1}. noktanın x ve y koordinatlarını girin (boşlukla ayırın): \").split())\n",
        "    points.append((x, y))\n"
      ],
      "metadata": {
        "colab": {
          "base_uri": "https://localhost:8080/"
        },
        "id": "7L5g3ggh_l3K",
        "outputId": "3df90a10-814f-4410-c37d-7f3bc484e1fc"
      },
      "execution_count": 3,
      "outputs": [
        {
          "name": "stdout",
          "output_type": "stream",
          "text": [
            "Kaç tane nokta girmek istiyorsunuz? 3\n",
            "1. noktanın x ve y koordinatlarını girin (boşlukla ayırın): 1 3\n",
            "2. noktanın x ve y koordinatlarını girin (boşlukla ayırın): 2 5\n",
            "3. noktanın x ve y koordinatlarını girin (boşlukla ayırın): 8 21\n"
          ]
        }
      ]
    },
    {
      "cell_type": "markdown",
      "source": [
        "# Mesafeleri kaydeden bir liste\n",
        "Noktaları girdikten sonra her bir mesafeyi kaydeden bir liste oluşturmamız gerekiyor. Çünkü minimum mesafeyi bu liste içinden seçeceğiz."
      ],
      "metadata": {
        "id": "onamCr5iAx1-"
      }
    },
    {
      "cell_type": "code",
      "source": [
        "# Her nokta çifti arasındaki mesafeleri saklayacak 'distances' adında bir liste\n",
        "distances = []"
      ],
      "metadata": {
        "id": "Lb-sICBXAxpt"
      },
      "execution_count": 4,
      "outputs": []
    },
    {
      "cell_type": "markdown",
      "source": [
        "# Her bir nokta çiftinin hesaplanacağı döngü\n",
        "Burada her nokta çiftlerinin aralarındaki mesafenin hesaplanacağı bir döngü oluşturmamız gerekmektedir."
      ],
      "metadata": {
        "id": "BnRbGZ6vBNV6"
      }
    },
    {
      "cell_type": "code",
      "source": [
        "# döngü\n",
        "for i in range(len(points)):\n",
        "    for j in range(i + 1, len(points)):\n",
        "        nokta1 = points[i]\n",
        "        nokta2 = points[j]\n",
        "        mesafe = euclideanDistance(nokta1, nokta2)\n",
        "        distances.append(((nokta1, nokta2), mesafe))\n"
      ],
      "metadata": {
        "id": "2ht37nR_BNJq"
      },
      "execution_count": 5,
      "outputs": []
    },
    {
      "cell_type": "markdown",
      "source": [
        "# Sonuç yazdırma\n",
        "Hesaplanan nokta çiftlerini ekrana yazdırdığımız kısmı print koduyla oluşturuyoruz."
      ],
      "metadata": {
        "id": "diX-7grRBwA-"
      }
    },
    {
      "cell_type": "code",
      "source": [
        "# Yazdırma\n",
        "print(\"\\nNokta çiftleri arasındaki mesafeler:\")\n",
        "for (nokta1, nokta2), mesafe in distances:\n",
        "    print(f\"Nokta {nokta1} ile nokta {nokta2} arasındaki mesafe: {mesafe}\")\n"
      ],
      "metadata": {
        "colab": {
          "base_uri": "https://localhost:8080/"
        },
        "id": "jxOGUEbXBv2N",
        "outputId": "4e051a1c-af25-48b5-c34a-663556147493"
      },
      "execution_count": 6,
      "outputs": [
        {
          "output_type": "stream",
          "name": "stdout",
          "text": [
            "\n",
            "Nokta çiftleri arasındaki mesafeler:\n",
            "Nokta (1.0, 3.0) ile nokta (2.0, 5.0) arasındaki mesafe: 2.23606797749979\n",
            "Nokta (1.0, 3.0) ile nokta (8.0, 21.0) arasındaki mesafe: 19.313207915827967\n",
            "Nokta (2.0, 5.0) ile nokta (8.0, 21.0) arasındaki mesafe: 17.08800749063506\n"
          ]
        }
      ]
    },
    {
      "cell_type": "markdown",
      "source": [
        "# Minimum mesafenin hesabı\n",
        "Burada başta oluşturduğumuz listemizin yardımıyla minimum mesafeyi döngüde hesaplanan nokta çiftleri sonuçlarının arasından seçiyoruz. Bu seçimi yapabilmesi adına min_distance fonksiyonu tanımlayıp listemizdeki noktaların en küçüğünü seçen min kodunu kullanıyoruz."
      ],
      "metadata": {
        "id": "F06BhZrLB_LH"
      }
    },
    {
      "cell_type": "code",
      "source": [
        "# Minimum mesafeyi bulma\n",
        "min_distance = min(distances, key=lambda x: x[1])\n"
      ],
      "metadata": {
        "id": "XuN8RAhsB_EY"
      },
      "execution_count": 7,
      "outputs": []
    },
    {
      "cell_type": "markdown",
      "source": [
        "# Minimum mesafeyi yazdırma\n",
        "Artık minimum mesafeyi ve minimum mesafeye sahip olan noktaları kullanıcının ekranda görebilmesini sağlayan print kodu ile yazdırıyoruz."
      ],
      "metadata": {
        "id": "Yul7UE0rCROz"
      }
    },
    {
      "cell_type": "code",
      "source": [
        "# Minimum mesafeyi ve minimum mesafeye sahip nokta çiftini yazdırma\n",
        "(nokta1, nokta2), mesafe = min_distance\n",
        "print(f\"\\nMinimum mesafe {mesafe} ve bu mesafeye sahip nokta çifti: {nokta1} ile {nokta2}\")"
      ],
      "metadata": {
        "colab": {
          "base_uri": "https://localhost:8080/"
        },
        "id": "RmwjzJK-CRF6",
        "outputId": "10abadd6-d3cc-4636-e8c7-36f15147ade6"
      },
      "execution_count": 8,
      "outputs": [
        {
          "output_type": "stream",
          "name": "stdout",
          "text": [
            "\n",
            "Minimum mesafe 2.23606797749979 ve bu mesafeye sahip nokta çifti: (1.0, 3.0) ile (2.0, 5.0)\n"
          ]
        }
      ]
    }
  ]
}